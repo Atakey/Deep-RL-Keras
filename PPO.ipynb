{
 "cells": [
  {
   "cell_type": "code",
   "execution_count": 1,
   "metadata": {},
   "outputs": [
    {
     "name": "stderr",
     "output_type": "stream",
     "text": [
      "Using TensorFlow backend.\n"
     ]
    }
   ],
   "source": [
    "import os\n",
    "import sys\n",
    "import gym\n",
    "import argparse\n",
    "import numpy as np\n",
    "import pandas as pd\n",
    "import tensorflow as tf\n",
    "\n",
    "from PPO.ppo import PPO\n",
    "from A2C.a2c import A2C\n",
    "from A3C.a3c import A3C\n",
    "from DDQN.ddqn import DDQN\n",
    "from DDPG.ddpg import DDPG\n",
    "\n",
    "from keras.backend.tensorflow_backend import set_session\n",
    "from keras.utils import to_categorical\n",
    "\n",
    "from utils.atari_environment import AtariEnvironment\n",
    "from utils.continuous_environments import Environment\n",
    "from utils.networks import get_session"
   ]
  },
  {
   "cell_type": "code",
   "execution_count": 2,
   "metadata": {},
   "outputs": [],
   "source": [
    "gym.logger.set_level(40)\n",
    "os.environ['TF_CPP_MIN_LOG_LEVEL'] = '3'"
   ]
  },
  {
   "cell_type": "code",
   "execution_count": 3,
   "metadata": {},
   "outputs": [],
   "source": [
    "class attrdict(dict):\n",
    "    def __init__(self, *args, **kwargs):\n",
    "        dict.__init__(self, *args, **kwargs)\n",
    "        self.__dict__ = self"
   ]
  },
  {
   "cell_type": "code",
   "execution_count": 4,
   "metadata": {},
   "outputs": [],
   "source": [
    "args = attrdict(gpu=True, env='CartPole-v1', type='PPO', is_atari=False, \n",
    "                consecutive_frames=4, render=False, n_threads=16, nb_episodes=5_000,\n",
    "               training_interval=30, batch_size=256, gather_stats=True, buffer_size=2048, epochs=10)"
   ]
  },
  {
   "cell_type": "code",
   "execution_count": 5,
   "metadata": {},
   "outputs": [
    {
     "name": "stdout",
     "output_type": "stream",
     "text": [
      "WARNING:tensorflow:From /home/danilo/Documents/danilo/Deep-RL-Keras/utils/networks.py:8: The name tf.ConfigProto is deprecated. Please use tf.compat.v1.ConfigProto instead.\n",
      "\n",
      "WARNING:tensorflow:From /home/danilo/Documents/danilo/Deep-RL-Keras/utils/networks.py:10: The name tf.Session is deprecated. Please use tf.compat.v1.Session instead.\n",
      "\n"
     ]
    }
   ],
   "source": [
    "set_session(get_session())\n",
    "summary_writer = tf.summary.FileWriter(args.type + \"/tensorboard_\" + args.env)"
   ]
  },
  {
   "cell_type": "code",
   "execution_count": 6,
   "metadata": {},
   "outputs": [],
   "source": [
    "# Environment Initialization\n",
    "if(args.is_atari):\n",
    "    # Atari Environment Wrapper\n",
    "    env = AtariEnvironment(args)\n",
    "    state_dim = env.get_state_size()\n",
    "    action_dim = env.get_action_size()\n",
    "elif(args.type==\"DDPG\"):\n",
    "    # Continuous Environments Wrapper\n",
    "    env = Environment(gym.make(args.env), args.consecutive_frames)\n",
    "    env.reset()\n",
    "    state_dim = env.get_state_size()\n",
    "    action_space = gym.make(args.env).action_space\n",
    "    action_dim = action_space.high.shape[0]\n",
    "    act_range = action_space.high\n",
    "else:\n",
    "    # Standard Environments\n",
    "    env = Environment(gym.make(args.env), args.consecutive_frames)\n",
    "    env.reset()\n",
    "    state_dim = env.get_state_size()[0]\n",
    "    action_dim = gym.make(args.env).action_space.n"
   ]
  },
  {
   "cell_type": "code",
   "execution_count": 7,
   "metadata": {},
   "outputs": [
    {
     "name": "stdout",
     "output_type": "stream",
     "text": [
      "WARNING:tensorflow:From /home/danilo/anaconda3/lib/python3.7/site-packages/keras/backend/tensorflow_backend.py:74: The name tf.get_default_graph is deprecated. Please use tf.compat.v1.get_default_graph instead.\n",
      "\n",
      "WARNING:tensorflow:From /home/danilo/anaconda3/lib/python3.7/site-packages/keras/backend/tensorflow_backend.py:517: The name tf.placeholder is deprecated. Please use tf.compat.v1.placeholder instead.\n",
      "\n",
      "WARNING:tensorflow:From /home/danilo/anaconda3/lib/python3.7/site-packages/keras/backend/tensorflow_backend.py:4138: The name tf.random_uniform is deprecated. Please use tf.random.uniform instead.\n",
      "\n",
      "WARNING:tensorflow:From /home/danilo/anaconda3/lib/python3.7/site-packages/keras/optimizers.py:790: The name tf.train.Optimizer is deprecated. Please use tf.compat.v1.train.Optimizer instead.\n",
      "\n",
      "WARNING:tensorflow:From /home/danilo/anaconda3/lib/python3.7/site-packages/keras/backend/tensorflow_backend.py:1521: The name tf.log is deprecated. Please use tf.math.log instead.\n",
      "\n",
      "_________________________________________________________________\n",
      "Layer (type)                 Output Shape              Param #   \n",
      "=================================================================\n",
      "input_1 (InputLayer)         (None, 4)                 0         \n",
      "_________________________________________________________________\n",
      "dense_1 (Dense)              (None, 128)               640       \n",
      "_________________________________________________________________\n",
      "dense_2 (Dense)              (None, 128)               16512     \n",
      "_________________________________________________________________\n",
      "output (Dense)               (None, 2)                 258       \n",
      "=================================================================\n",
      "Total params: 17,410\n",
      "Trainable params: 17,410\n",
      "Non-trainable params: 0\n",
      "_________________________________________________________________\n",
      "_________________________________________________________________\n",
      "Layer (type)                 Output Shape              Param #   \n",
      "=================================================================\n",
      "input_4 (InputLayer)         (None, 4)                 0         \n",
      "_________________________________________________________________\n",
      "dense_3 (Dense)              (None, 128)               640       \n",
      "_________________________________________________________________\n",
      "dense_4 (Dense)              (None, 128)               16512     \n",
      "_________________________________________________________________\n",
      "dense_5 (Dense)              (None, 1)                 129       \n",
      "=================================================================\n",
      "Total params: 17,281\n",
      "Trainable params: 17,281\n",
      "Non-trainable params: 0\n",
      "_________________________________________________________________\n"
     ]
    }
   ],
   "source": [
    "# Pick algorithm to train\n",
    "if(args.type==\"DDQN\"):\n",
    "    algo = DDQN(action_dim, state_dim, args)\n",
    "elif(args.type==\"A2C\"):\n",
    "    algo = A2C(action_dim, state_dim, args.consecutive_frames)\n",
    "elif(args.type==\"PPO\"):\n",
    "    algo = PPO(action_dim, state_dim, args.consecutive_frames)\n",
    "elif(args.type==\"A3C\"):\n",
    "    algo = A3C(action_dim, state_dim, args.consecutive_frames, is_atari=args.is_atari)\n",
    "elif(args.type==\"DDPG\"):\n",
    "    algo = DDPG(action_dim, state_dim, act_range, args.consecutive_frames)"
   ]
  },
  {
   "cell_type": "markdown",
   "metadata": {},
   "source": [
    "## train"
   ]
  },
  {
   "cell_type": "code",
   "execution_count": 8,
   "metadata": {
    "scrolled": true
   },
   "outputs": [
    {
     "name": "stdout",
     "output_type": "stream",
     "text": [
      "Episode  1\n",
      "WARNING:tensorflow:From /home/danilo/anaconda3/lib/python3.7/site-packages/keras/backend/tensorflow_backend.py:174: The name tf.get_default_session is deprecated. Please use tf.compat.v1.get_default_session instead.\n",
      "\n",
      "WARNING:tensorflow:From /home/danilo/anaconda3/lib/python3.7/site-packages/keras/backend/tensorflow_backend.py:190: The name tf.global_variables is deprecated. Please use tf.compat.v1.global_variables instead.\n",
      "\n",
      "WARNING:tensorflow:From /home/danilo/anaconda3/lib/python3.7/site-packages/keras/backend/tensorflow_backend.py:199: The name tf.is_variable_initialized is deprecated. Please use tf.compat.v1.is_variable_initialized instead.\n",
      "\n",
      "WARNING:tensorflow:From /home/danilo/anaconda3/lib/python3.7/site-packages/keras/backend/tensorflow_backend.py:206: The name tf.variables_initializer is deprecated. Please use tf.compat.v1.variables_initializer instead.\n",
      "\n",
      "WARNING:tensorflow:From /home/danilo/anaconda3/lib/python3.7/site-packages/tensorflow_core/python/ops/math_grad.py:1424: where (from tensorflow.python.ops.array_ops) is deprecated and will be removed in a future version.\n",
      "Instructions for updating:\n",
      "Use tf.where in 2.0, which has the same broadcast rule as np.where\n",
      "WARNING:tensorflow:From /home/danilo/anaconda3/lib/python3.7/site-packages/keras/backend/tensorflow_backend.py:986: The name tf.assign_add is deprecated. Please use tf.compat.v1.assign_add instead.\n",
      "\n",
      "WARNING:tensorflow:From /home/danilo/anaconda3/lib/python3.7/site-packages/keras/backend/tensorflow_backend.py:973: The name tf.assign is deprecated. Please use tf.compat.v1.assign instead.\n",
      "\n",
      "Episode  106\n",
      "Episode  212\n",
      "Episode  315\n",
      "Episode  417\n",
      "Episode  532\n",
      "Episode  643\n",
      "Episode  769\n",
      "Episode  890\n",
      "Episode  1011\n",
      "Episode  1122\n",
      "Episode  1233\n",
      "Episode  1343\n",
      "Episode  1461\n",
      "Episode  1579\n",
      "Episode  1687\n",
      "Episode  1808\n",
      "Episode  1935\n",
      "Episode  2057\n",
      "Episode  2176\n",
      "Episode  2289\n",
      "Episode  2393\n",
      "Episode  2499\n",
      "Episode  2605\n",
      "Episode  2724\n",
      "Episode  2847\n",
      "Episode  2953\n",
      "Episode  3076\n",
      "Episode  3178\n",
      "Episode  3273\n",
      "Episode  3365\n",
      "Episode  3454\n",
      "Episode  3537\n",
      "Episode  3624\n",
      "Episode  3686\n",
      "Episode  3751\n",
      "Episode  3821\n",
      "Episode  3885\n",
      "Episode  3959\n",
      "Episode  4020\n",
      "Episode  4071\n",
      "Episode  4127\n",
      "Episode  4172\n",
      "Episode  4212\n",
      "Episode  4256\n",
      "Episode  4302\n",
      "Episode  4351\n",
      "Episode  4396\n",
      "Episode  4438\n",
      "Episode  4478\n",
      "Episode  4518\n",
      "Episode  4557\n",
      "Episode  4596\n",
      "Episode  4632\n",
      "Episode  4668\n",
      "Episode  4704\n",
      "Episode  4738\n",
      "Episode  4776\n",
      "Episode  4807\n",
      "Episode  4842\n",
      "Episode  4873\n",
      "Episode  4897\n",
      "Episode  4923\n",
      "Episode  4950\n",
      "Episode  4978\n"
     ]
    }
   ],
   "source": [
    "# Train\n",
    "rewards, actor_losses, critic_losses = algo.train(env, args, summary_writer)"
   ]
  },
  {
   "cell_type": "code",
   "execution_count": 9,
   "metadata": {},
   "outputs": [],
   "source": [
    "rewards = algo.batch_rewards"
   ]
  },
  {
   "cell_type": "code",
   "execution_count": 11,
   "metadata": {},
   "outputs": [
    {
     "data": {
      "image/png": "[encoded data removed]",
      "text/plain": [
       "<Figure size 432x288 with 1 Axes>"
      ]
     },
     "metadata": {
      "needs_background": "light"
     },
     "output_type": "display_data"
    }
   ],
   "source": [
    "import matplotlib.pyplot as plt\n",
    "plt.plot(rewards)\n",
    "plt.show()"
   ]
  },
  {
   "cell_type": "code",
   "execution_count": 12,
   "metadata": {},
   "outputs": [],
   "source": [
    "algo.save_weights(\"saved_models/PPO\")"
   ]
  },
  {
   "cell_type": "markdown",
   "metadata": {},
   "source": [
    "## test"
   ]
  },
  {
   "cell_type": "code",
   "execution_count": 13,
   "metadata": {},
   "outputs": [
    {
     "name": "stdout",
     "output_type": "stream",
     "text": [
      "_________________________________________________________________\n",
      "Layer (type)                 Output Shape              Param #   \n",
      "=================================================================\n",
      "input_5 (InputLayer)         (None, 4)                 0         \n",
      "_________________________________________________________________\n",
      "dense_6 (Dense)              (None, 128)               640       \n",
      "_________________________________________________________________\n",
      "dense_7 (Dense)              (None, 128)               16512     \n",
      "_________________________________________________________________\n",
      "output (Dense)               (None, 2)                 258       \n",
      "=================================================================\n",
      "Total params: 17,410\n",
      "Trainable params: 17,410\n",
      "Non-trainable params: 0\n",
      "_________________________________________________________________\n",
      "_________________________________________________________________\n",
      "Layer (type)                 Output Shape              Param #   \n",
      "=================================================================\n",
      "input_8 (InputLayer)         (None, 4)                 0         \n",
      "_________________________________________________________________\n",
      "dense_8 (Dense)              (None, 128)               640       \n",
      "_________________________________________________________________\n",
      "dense_9 (Dense)              (None, 128)               16512     \n",
      "_________________________________________________________________\n",
      "dense_10 (Dense)             (None, 1)                 129       \n",
      "=================================================================\n",
      "Total params: 17,281\n",
      "Trainable params: 17,281\n",
      "Non-trainable params: 0\n",
      "_________________________________________________________________\n"
     ]
    }
   ],
   "source": [
    "# Pick algorithm to test\n",
    "if(args.type==\"DDQN\"):\n",
    "    algo = DDQN(action_dim, state_dim, args, is_eval=True)\n",
    "elif(args.type==\"A2C\"):\n",
    "    algo = A2C(action_dim, state_dim, args.consecutive_frames, is_eval=True)\n",
    "elif(args.type==\"PPO\"):\n",
    "    algo = PPO(action_dim, state_dim, args.consecutive_frames, is_eval=True)\n",
    "elif(args.type==\"A3C\"):\n",
    "    algo = A3C(action_dim, state_dim, args.consecutive_frames, is_atari=args.is_atari, is_eval=True)\n",
    "elif(args.type==\"DDPG\"):\n",
    "    algo = DDPG(action_dim, state_dim, act_range, args.consecutive_frames, is_eval=True)"
   ]
  },
  {
   "cell_type": "code",
   "execution_count": 14,
   "metadata": {},
   "outputs": [],
   "source": [
    "algo.load_weights(\"saved_models/PPO_LR_0.0001_actor.h5\", \"saved_models/PPO_LR_0.0001_critic.h5\")"
   ]
  },
  {
   "cell_type": "code",
   "execution_count": 15,
   "metadata": {},
   "outputs": [],
   "source": [
    "# Reset episode\n",
    "num_test_int = 10\n",
    "global_info = []\n",
    "\n",
    "for i in range(num_test_int):\n",
    "    time, cumul_reward, done = 0, 0, False\n",
    "    old_state = env.reset_one()\n",
    "    \n",
    "    while not done:\n",
    "        env.render()\n",
    "        # Actor picks an action (following the policy)\n",
    "        a = algo.policy_action(old_state)\n",
    "        # Retrieve new state, reward, and whether the state is terminal\n",
    "        new_state, r, done, _ = env.step_one(a)\n",
    "        # Update current state\n",
    "        old_state = new_state\n",
    "        cumul_reward += r\n",
    "        time += 1\n",
    "        \n",
    "        if done: \n",
    "            global_info.append({\n",
    "                cumul_reward\n",
    "            })"
   ]
  },
  {
   "cell_type": "code",
   "execution_count": 16,
   "metadata": {},
   "outputs": [
    {
     "data": {
      "text/plain": [
       "[{105.0},\n",
       " {112.0},\n",
       " {194.0},\n",
       " {122.0},\n",
       " {94.0},\n",
       " {79.0},\n",
       " {102.0},\n",
       " {168.0},\n",
       " {95.0},\n",
       " {229.0}]"
      ]
     },
     "execution_count": 16,
     "metadata": {},
     "output_type": "execute_result"
    }
   ],
   "source": [
    "global_info"
   ]
  },
  {
   "cell_type": "code",
   "execution_count": null,
   "metadata": {},
   "outputs": [],
   "source": []
  }
 ],
 "metadata": {
  "kernelspec": {
   "display_name": "Python 3",
   "language": "python",
   "name": "python3"
  },
  "language_info": {
   "codemirror_mode": {
    "name": "ipython",
    "version": 3
   },
   "file_extension": ".py",
   "mimetype": "text/x-python",
   "name": "python",
   "nbconvert_exporter": "python",
   "pygments_lexer": "ipython3",
   "version": "3.7.4"
  }
 },
 "nbformat": 4,
 "nbformat_minor": 2
}
