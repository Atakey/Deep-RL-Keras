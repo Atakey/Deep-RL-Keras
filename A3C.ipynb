{
 "cells": [
  {
   "cell_type": "code",
   "execution_count": 1,
   "metadata": {},
   "outputs": [
    {
     "name": "stderr",
     "output_type": "stream",
     "text": [
      "Using TensorFlow backend.\n"
     ]
    }
   ],
   "source": [
    "import os\n",
    "import sys\n",
    "import gym\n",
    "import argparse\n",
    "import numpy as np\n",
    "import pandas as pd\n",
    "import tensorflow as tf\n",
    "\n",
    "from A2C.a2c import A2C\n",
    "from A3C.a3c import A3C\n",
    "from DDQN.ddqn import DDQN\n",
    "from DDPG.ddpg import DDPG\n",
    "\n",
    "from keras.backend.tensorflow_backend import set_session\n",
    "from keras.utils import to_categorical\n",
    "\n",
    "from utils.atari_environment import AtariEnvironment\n",
    "from utils.continuous_environments import Environment\n",
    "from utils.networks import get_session"
   ]
  },
  {
   "cell_type": "code",
   "execution_count": 2,
   "metadata": {},
   "outputs": [],
   "source": [
    "gym.logger.set_level(40)\n",
    "os.environ['TF_CPP_MIN_LOG_LEVEL'] = '3'"
   ]
  },
  {
   "cell_type": "code",
   "execution_count": 3,
   "metadata": {},
   "outputs": [],
   "source": [
    "class attrdict(dict):\n",
    "    def __init__(self, *args, **kwargs):\n",
    "        dict.__init__(self, *args, **kwargs)\n",
    "        self.__dict__ = self"
   ]
  },
  {
   "cell_type": "code",
   "execution_count": 4,
   "metadata": {},
   "outputs": [],
   "source": [
    "args = attrdict(gpu=True, env='CartPole-v1', type='A3C', is_atari=False, \n",
    "                consecutive_frames=4, render=True, n_threads=16, nb_episodes=10_000,\n",
    "               training_interval=30, batch_size=64)"
   ]
  },
  {
   "cell_type": "code",
   "execution_count": 5,
   "metadata": {},
   "outputs": [
    {
     "name": "stdout",
     "output_type": "stream",
     "text": [
      "WARNING:tensorflow:From /home/danilo/Documents/danilo/Deep-RL-Keras/utils/networks.py:8: The name tf.ConfigProto is deprecated. Please use tf.compat.v1.ConfigProto instead.\n",
      "\n",
      "WARNING:tensorflow:From /home/danilo/Documents/danilo/Deep-RL-Keras/utils/networks.py:10: The name tf.Session is deprecated. Please use tf.compat.v1.Session instead.\n",
      "\n"
     ]
    }
   ],
   "source": [
    "set_session(get_session())\n",
    "summary_writer = tf.summary.FileWriter(args.type + \"/tensorboard_\" + args.env)"
   ]
  },
  {
   "cell_type": "code",
   "execution_count": 6,
   "metadata": {},
   "outputs": [],
   "source": [
    "# Environment Initialization\n",
    "if(args.is_atari):\n",
    "    # Atari Environment Wrapper\n",
    "    env = AtariEnvironment(args)\n",
    "    state_dim = env.get_state_size()\n",
    "    action_dim = env.get_action_size()\n",
    "elif(args.type==\"DDPG\"):\n",
    "    # Continuous Environments Wrapper\n",
    "    env = Environment(gym.make(args.env), args.consecutive_frames)\n",
    "    env.reset()\n",
    "    state_dim = env.get_state_size()\n",
    "    action_space = gym.make(args.env).action_space\n",
    "    action_dim = action_space.high.shape[0]\n",
    "    act_range = action_space.high\n",
    "else:\n",
    "    # Standard Environments\n",
    "    env = Environment(gym.make(args.env), args.consecutive_frames)\n",
    "    env.reset()\n",
    "    state_dim = env.get_state_size()\n",
    "    action_dim = gym.make(args.env).action_space.n"
   ]
  },
  {
   "cell_type": "code",
   "execution_count": 7,
   "metadata": {},
   "outputs": [
    {
     "name": "stdout",
     "output_type": "stream",
     "text": [
      "WARNING:tensorflow:From /home/danilo/anaconda3/lib/python3.7/site-packages/keras/backend/tensorflow_backend.py:74: The name tf.get_default_graph is deprecated. Please use tf.compat.v1.get_default_graph instead.\n",
      "\n",
      "WARNING:tensorflow:From /home/danilo/anaconda3/lib/python3.7/site-packages/keras/backend/tensorflow_backend.py:517: The name tf.placeholder is deprecated. Please use tf.compat.v1.placeholder instead.\n",
      "\n",
      "WARNING:tensorflow:From /home/danilo/anaconda3/lib/python3.7/site-packages/keras/backend/tensorflow_backend.py:4138: The name tf.random_uniform is deprecated. Please use tf.random.uniform instead.\n",
      "\n",
      "WARNING:tensorflow:From /home/danilo/anaconda3/lib/python3.7/site-packages/keras/backend/tensorflow_backend.py:1521: The name tf.log is deprecated. Please use tf.math.log instead.\n",
      "\n",
      "WARNING:tensorflow:From /home/danilo/anaconda3/lib/python3.7/site-packages/keras/backend/tensorflow_backend.py:986: The name tf.assign_add is deprecated. Please use tf.compat.v1.assign_add instead.\n",
      "\n",
      "WARNING:tensorflow:From /home/danilo/anaconda3/lib/python3.7/site-packages/keras/backend/tensorflow_backend.py:973: The name tf.assign is deprecated. Please use tf.compat.v1.assign instead.\n",
      "\n"
     ]
    }
   ],
   "source": [
    "# Pick algorithm to train\n",
    "if(args.type==\"DDQN\"):\n",
    "    algo = DDQN(action_dim, state_dim, args)\n",
    "elif(args.type==\"A2C\"):\n",
    "    algo = A2C(action_dim, state_dim, args.consecutive_frames)\n",
    "elif(args.type==\"A3C\"):\n",
    "    algo = A3C(action_dim, state_dim, args.consecutive_frames, is_atari=args.is_atari)\n",
    "elif(args.type==\"DDPG\"):\n",
    "    algo = DDPG(action_dim, state_dim, act_range, args.consecutive_frames)"
   ]
  },
  {
   "cell_type": "markdown",
   "metadata": {},
   "source": [
    "## Train"
   ]
  },
  {
   "cell_type": "code",
   "execution_count": null,
   "metadata": {},
   "outputs": [
    {
     "name": "stderr",
     "output_type": "stream",
     "text": [
      "\r",
      "Score:   0%|          | 0/10000 [00:00<?, ? episodes/s]"
     ]
    },
    {
     "name": "stdout",
     "output_type": "stream",
     "text": [
      "WARNING:tensorflow:From /home/danilo/anaconda3/lib/python3.7/site-packages/keras/backend/tensorflow_backend.py:174: The name tf.get_default_session is deprecated. Please use tf.compat.v1.get_default_session instead.\n",
      "\n",
      "WARNING:tensorflow:From /home/danilo/anaconda3/lib/python3.7/site-packages/keras/backend/tensorflow_backend.py:190: The name tf.global_variables is deprecated. Please use tf.compat.v1.global_variables instead.\n",
      "\n",
      "WARNING:tensorflow:From /home/danilo/anaconda3/lib/python3.7/site-packages/keras/backend/tensorflow_backend.py:199: The name tf.is_variable_initialized is deprecated. Please use tf.compat.v1.is_variable_initialized instead.\n",
      "\n",
      "WARNING:tensorflow:From /home/danilo/anaconda3/lib/python3.7/site-packages/keras/backend/tensorflow_backend.py:206: The name tf.variables_initializer is deprecated. Please use tf.compat.v1.variables_initializer instead.\n",
      "\n",
      "WARNING:tensorflow:From /home/danilo/Documents/danilo/Deep-RL-Keras/utils/networks.py:15: The name tf.Summary is deprecated. Please use tf.compat.v1.Summary instead.\n",
      "\n"
     ]
    },
    {
     "name": "stderr",
     "output_type": "stream",
     "text": [
      "Score: 305.0:  16%|█▌        | 1557/10000 [03:41<50:23,  2.79 episodes/s]  "
     ]
    }
   ],
   "source": [
    "# Train\n",
    "stats = algo.train(env, args, summary_writer)"
   ]
  },
  {
   "cell_type": "code",
   "execution_count": null,
   "metadata": {},
   "outputs": [],
   "source": [
    "stats = algo.global_rewards"
   ]
  },
  {
   "cell_type": "code",
   "execution_count": null,
   "metadata": {},
   "outputs": [],
   "source": [
    "import matplotlib.pyplot as plt\n",
    "plt.plot(stats)\n",
    "plt.show()"
   ]
  },
  {
   "cell_type": "code",
   "execution_count": null,
   "metadata": {},
   "outputs": [],
   "source": [
    "algo.save_weights(\"saved_models/A3C\")"
   ]
  },
  {
   "cell_type": "markdown",
   "metadata": {},
   "source": [
    "## Test"
   ]
  },
  {
   "cell_type": "code",
   "execution_count": null,
   "metadata": {},
   "outputs": [],
   "source": [
    "# Pick algorithm to train\n",
    "if(args.type==\"DDQN\"):\n",
    "    algo = DDQN(action_dim, state_dim, args, is_eval=True)\n",
    "elif(args.type==\"A2C\"):\n",
    "    algo = A2C(action_dim, state_dim, args.consecutive_frames, is_eval=True)\n",
    "elif(args.type==\"A3C\"):\n",
    "    algo = A3C(action_dim, state_dim, args.consecutive_frames, is_atari=args.is_atari, is_eval=True)\n",
    "elif(args.type==\"DDPG\"):\n",
    "    algo = DDPG(action_dim, state_dim, act_range, args.consecutive_frames, is_eval=True)"
   ]
  },
  {
   "cell_type": "code",
   "execution_count": null,
   "metadata": {},
   "outputs": [],
   "source": [
    "algo.load_weights(\"saved_models/A3C_LR_0.0001_actor.h5\", \"saved_models/A3C_LR_0.0001_critic.h5\")"
   ]
  },
  {
   "cell_type": "code",
   "execution_count": null,
   "metadata": {},
   "outputs": [],
   "source": [
    "# Reset episode\n",
    "num_test_int = 10\n",
    "global_info = []\n",
    "\n",
    "for i in range(num_test_int):\n",
    "    time, cumul_reward, done = 0, 0, False\n",
    "    old_state = env.reset()\n",
    "    \n",
    "    while not done:\n",
    "        env.render()\n",
    "        # Actor picks an action (following the policy)\n",
    "        a = algo.policy_action(old_state)\n",
    "        # Retrieve new state, reward, and whether the state is terminal\n",
    "        new_state, r, done, _ = env.step(a)\n",
    "        # Update current state\n",
    "        old_state = new_state\n",
    "        cumul_reward += r\n",
    "        time += 1\n",
    "        \n",
    "        if done: \n",
    "            global_info.append({\n",
    "                cumul_reward\n",
    "            })"
   ]
  },
  {
   "cell_type": "code",
   "execution_count": null,
   "metadata": {},
   "outputs": [],
   "source": [
    "global_info"
   ]
  }
 ],
 "metadata": {
  "kernelspec": {
   "display_name": "Python 3",
   "language": "python",
   "name": "python3"
  },
  "language_info": {
   "codemirror_mode": {
    "name": "ipython",
    "version": 3
   },
   "file_extension": ".py",
   "mimetype": "text/x-python",
   "name": "python",
   "nbconvert_exporter": "python",
   "pygments_lexer": "ipython3",
   "version": "3.7.4"
  }
 },
 "nbformat": 4,
 "nbformat_minor": 2
}
